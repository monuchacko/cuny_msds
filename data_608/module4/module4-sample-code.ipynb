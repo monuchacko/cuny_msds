{
 "cells": [
  {
   "cell_type": "code",
   "execution_count": null,
   "metadata": {},
   "outputs": [],
   "source": [
    "import pandas as pd\n",
    "import numpy as np\n",
    "import warnings\n",
    "import dash\n",
    "import dash_core_components as dcc\n",
    "import dash_html_components as html"
   ]
  },
  {
   "cell_type": "markdown",
   "metadata": {},
   "source": [
    "This module we'll be looking at the New York City tree census. This data was provided by a volunteer driven census in 2015, and we'll be accessing it via the socrata API. The main site for the data is [here](https://data.cityofnewyork.us/Environment/2015-Street-Tree-Census-Tree-Data/uvpi-gqnh), and on the upper right hand side you'll be able to see the link to the API.\n",
    "\n",
    "The data is conveniently available in json format, so we should be able to just read it directly in to Pandas:"
   ]
  },
  {
   "cell_type": "code",
   "execution_count": null,
   "metadata": {},
   "outputs": [],
   "source": [
    "url = 'https://data.cityofnewyork.us/resource/nwxe-4ae8.json'\n",
    "trees = pd.read_json(url)\n",
    "trees.head(10)"
   ]
  },
  {
   "cell_type": "markdown",
   "metadata": {},
   "source": [
    "Looks good, but lets take a look at the shape of this data:"
   ]
  },
  {
   "cell_type": "code",
   "execution_count": null,
   "metadata": {},
   "outputs": [],
   "source": [
    "trees.shape"
   ]
  },
  {
   "cell_type": "markdown",
   "metadata": {},
   "source": [
    "1000 seems like too few trees for a city like New York, and a suspiciously round number. What's going on?\n",
    "\n",
    "Socrata places a 1000 row limit on their API. Raw data is meant to be \"paged\" through for applications, with the expectation that a UX wouldn't be able to handle a full dataset. \n",
    "\n",
    "As a simple example, if we had a mobile app with limited space that only displayed trees 5 at a time, we could view the first 5 trees in the dataset with the url below:"
   ]
  },
  {
   "cell_type": "code",
   "execution_count": null,
   "metadata": {},
   "outputs": [],
   "source": [
    "firstfive_url = 'https://data.cityofnewyork.us/resource/nwxe-4ae8.json?$limit=5&$offset=0'\n",
    "firstfive_trees = pd.read_json(firstfive_url)\n",
    "firstfive_trees"
   ]
  },
  {
   "cell_type": "markdown",
   "metadata": {},
   "source": [
    "If we wanted the next 5, we would use this url:"
   ]
  },
  {
   "cell_type": "code",
   "execution_count": null,
   "metadata": {},
   "outputs": [],
   "source": [
    "nextfive_url = 'https://data.cityofnewyork.us/resource/nwxe-4ae8.json?$limit=5&$offset=5'\n",
    "nextfive_trees = pd.read_json(nextfive_url)\n",
    "nextfive_trees"
   ]
  },
  {
   "cell_type": "markdown",
   "metadata": {},
   "source": [
    "You can read more about paging using the Socrata API [here](https://dev.socrata.com/docs/paging.html)\n",
    "\n",
    "In these docs, you'll also see more advanced functions (called `SoQL`) under the \"filtering and query\" section. These functions should be reminding you of SQL.\n",
    "\n",
    "Think about the shape you want your data to be in before querying it. Using `SoQL` is a good way to avoid the limits of the API. For example, using the below query I can easily obtain the count of each species of tree in the Bronx:"
   ]
  },
  {
   "cell_type": "code",
   "execution_count": null,
   "metadata": {},
   "outputs": [],
   "source": [
    "boro = 'Bronx'\n",
    "soql_url = ('https://data.cityofnewyork.us/resource/nwxe-4ae8.json?' +\\\n",
    "        '$select=spc_common,count(tree_id)' +\\\n",
    "        '&$where=boroname=\\'Bronx\\'' +\\\n",
    "        '&$group=spc_common').replace(' ', '%20')\n",
    "soql_trees = pd.read_json(soql_url)\n",
    "\n",
    "soql_trees"
   ]
  },
  {
   "cell_type": "markdown",
   "metadata": {},
   "source": [
    "This behavior is very common with web APIs, and I think this is useful when thinking about building interactive data products. When in a Jupyter Notebook or RStudio, there's an expectation that (unless you're dealing with truly large datasets) the data you want can be brought in memory and manipulated.\n",
    "\n",
    "Dash and Shiny abstract away the need to distinguish between client side and server side to make web development more accessible to data scientists. This can lead to some unintentional design mistakes if you don't think about how costly your callback functions are (for example: nothing will stop you in dash from running a costly model triggered whenever a dropdown is called.)\n",
    "\n",
    "The goal of using the Socrata is to force you to think about where your data operations are happening, and not resort to pulling in the data and performing all operations in local memory.\n",
    "\n",
    "----------\n",
    "\n",
    "**NOTE**: One tip in dealing with URLs: you may need to replace spaces with `'%20'`. I personally just write out the url and then follow the string with a replace:"
   ]
  },
  {
   "cell_type": "code",
   "execution_count": null,
   "metadata": {},
   "outputs": [],
   "source": [
    "'https://api-url.com/?query with spaces'.replace(' ', '%20')"
   ]
  },
  {
   "cell_type": "code",
   "execution_count": null,
   "metadata": {},
   "outputs": [],
   "source": [
    "q1_url = ('https://data.cityofnewyork.us/resource/nwxe-4ae8.json?' +\\\n",
    "        '&$select=boroname,health, count(tree_id)' +\\\n",
    "        '&$group=boroname,health').replace(' ', '%20')\n",
    "\n",
    "q1 = pd.read_json(q1_url)\n",
    "\n",
    "q1"
   ]
  },
  {
   "cell_type": "code",
   "execution_count": null,
   "metadata": {},
   "outputs": [],
   "source": [
    "from pandasql import sqldf\n",
    "pysqldf = lambda q: sqldf(q, globals())\n",
    "# Get - tree_id count, boroname, spc_common, health,status\n",
    "soql_url = ('https://data.cityofnewyork.us/resource/nwxe-4ae8.json?' +\\\n",
    "        '$select=count(tree_id),boroname,spc_common, health,status' +\\\n",
    "         '&$where=health!=\\'NaN\\'' +\\\n",
    "        '&$group=boroname,health,status,spc_common').replace(' ', '%20')\n",
    "soql_trees = pd.read_json(soql_url)\n",
    "\n",
    "# Get - tree_id count, boroname, health, steward\n",
    "soql_url_2 = ('https://data.cityofnewyork.us/resource/nwxe-4ae8.json?' +\\\n",
    "        '$select=count(tree_id), boroname, health, steward' +\\\n",
    "         '&$where=health!=\\'NaN\\'' +\\\n",
    "        '&$group=health,steward, boroname').replace(' ', '%20')\n",
    "soql_trees_2 = pd.read_json(soql_url_2)\n",
    "\n",
    "# Get - tree_id count, spc_common, health, steward\n",
    "soql_url_3 = ('https://data.cityofnewyork.us/resource/nwxe-4ae8.json?' +\\\n",
    "        '$select=count(tree_id), spc_common, health, steward' +\\\n",
    "         '&$where=health!=\\'NaN\\'' +\\\n",
    "        '&$group=health,steward, spc_common').replace(' ', '%20')\n",
    "\n",
    "soql_trees_3 = pd.read_json(soql_url_3)"
   ]
  },
  {
   "cell_type": "code",
   "execution_count": null,
   "metadata": {},
   "outputs": [],
   "source": [
    "soql_trees.info()"
   ]
  },
  {
   "cell_type": "code",
   "execution_count": null,
   "metadata": {},
   "outputs": [],
   "source": [
    "soql_trees_2.info()"
   ]
  },
  {
   "cell_type": "code",
   "execution_count": null,
   "metadata": {},
   "outputs": [],
   "source": [
    "soql_trees_3.info()"
   ]
  },
  {
   "cell_type": "code",
   "execution_count": null,
   "metadata": {},
   "outputs": [],
   "source": [
    "soql_trees_sum_2 = soql_trees_2.groupby(['boroname', 'health']).agg({'count_tree_id': [np.sum]})\n",
    "soql_trees_sum_2b=pd.DataFrame(soql_trees_sum_2.to_records())\n",
    "soql_trees_sum_2b.info()"
   ]
  },
  {
   "cell_type": "code",
   "execution_count": null,
   "metadata": {},
   "outputs": [],
   "source": [
    "soql_merged_2 = pd.merge(soql_trees_2, soql_trees_sum_2b, on=['boroname', 'health'])\n",
    "soql_merged_2.columns = ['boroname', 'count_tree_id', 'health','steward', 'sum_count_tree_id']\n",
    "soql_merged_2.head(10)"
   ]
  },
  {
   "cell_type": "code",
   "execution_count": null,
   "metadata": {},
   "outputs": [],
   "source": [
    "soql_trees_sum_3 = soql_trees_3.groupby(['spc_common', 'health']).agg({'count_tree_id': [np.sum]})\n",
    "soql_trees_sum_3b=pd.DataFrame(soql_trees_sum_3.to_records())\n",
    "soql_merged_3 = pd.merge(soql_trees_3, soql_trees_sum_3b, on=['spc_common','health'])\n",
    "soql_merged_3.columns = ['count_tree_id', 'health', 'spc_common','steward', 'sum_count_tree_id']\n",
    "soql_merged_3.head(10)"
   ]
  },
  {
   "cell_type": "code",
   "execution_count": null,
   "metadata": {},
   "outputs": [],
   "source": [
    "soql_trees_sum = soql_trees.groupby(['boroname', 'spc_common']).agg({'count_tree_id': [np.sum]})\n",
    "soql_trees_sumb=pd.DataFrame(soql_trees_sum.to_records())\n",
    "soql_merged = pd.merge(soql_trees, soql_trees_sumb, on=['boroname','spc_common'])\n",
    "soql_merged.columns = ['boroname', 'count_tree_id','health', 'spc_common', 'status', 'sum_count_tree_id']\n",
    "soql_merged.head(10)"
   ]
  },
  {
   "cell_type": "code",
   "execution_count": null,
   "metadata": {},
   "outputs": [],
   "source": [
    "soql_merged['prop_health'] = soql_merged_3['count_tree_id'] / soql_merged_3['sum_count_tree_id']\n",
    "soql_merged.sort_values(by=['boroname','spc_common'])\n",
    "q1 = soql_merged[['boroname','health','spc_common','prop_health']]\n",
    "q1.head(10)"
   ]
  },
  {
   "cell_type": "code",
   "execution_count": null,
   "metadata": {},
   "outputs": [],
   "source": [
    "soql_merged_2['prop_steward'] = soql_merged_3['count_tree_id'] / soql_merged_3['sum_count_tree_id']\n",
    "soql_merged_2.sort_values(by=['boroname','steward'])\n",
    "q2 = soql_merged_2\n",
    "q2.head(10)"
   ]
  },
  {
   "cell_type": "code",
   "execution_count": null,
   "metadata": {},
   "outputs": [],
   "source": [
    "soql_merged_3['prop_steward'] = soql_merged_3['count_tree_id'] / soql_merged_3['sum_count_tree_id']\n",
    "soql_merged_3.sort_values(by=['spc_common','steward'])\n",
    "q3 = soql_merged_3\n",
    "q3.head(10)"
   ]
  },
  {
   "cell_type": "markdown",
   "metadata": {},
   "source": [
    "# DASH IMPLEMENTATION"
   ]
  },
  {
   "cell_type": "code",
   "execution_count": null,
   "metadata": {},
   "outputs": [],
   "source": [
    "external_stylesheets = ['https://codepen.io/chriddyp/pen/bWLwgP.css']\n",
    "\n",
    "df = q2\n",
    "\n",
    "available_indicators = df['boroname'].unique()\n",
    "\n",
    "app = dash.Dash(__name__, external_stylesheets=external_stylesheets)\n",
    "\n",
    "app.layout = html.Div([\n",
    "    html.H1('Steward by health for each Borough'),\n",
    "    html.Div('''\n",
    "        boroname\n",
    "    '''),\n",
    "    dcc.Dropdown(\n",
    "        id='dd_health1',\n",
    "        options=[{'label': i, 'value': i} for i in available_indicators],\n",
    "        value='Queens'\n",
    "    ),\n",
    "    dcc.Graph(\n",
    "        id='example-graph'    \n",
    "    )\n",
    "    \n",
    "])\n",
    "\n",
    "@app.callback(\n",
    "    dash.dependencies.Output('example-graph', 'figure'),\n",
    "    [dash.dependencies.Input('dd_health1', 'value')])\n",
    "\n",
    "def update_output(selected_dropdown_value):\n",
    "    dff = df[df['boroname'] == selected_dropdown_value]\n",
    "    figure = {\n",
    "            'data': [\n",
    "                {'x': dff.health[dff['steward'] == 'None'], 'y': dff.prop_steward[dff['steward'] == 'None'], 'type': 'bar', 'name': 'None'},\n",
    "                {'x': dff.health[dff['steward'] == '1or2'], 'y': dff.prop_steward[dff['steward'] == '1or2'], 'type': 'bar', 'name': '1or2'},\n",
    "                {'x': dff.health[dff['steward'] == '3or4'], 'y': dff.prop_steward[dff['steward'] == '3or4'], 'type': 'bar', 'name': '3or4'},\n",
    "                {'x': dff.health[dff['steward'] == '4orMore'], 'y': dff.prop_steward[dff['steward'] == '4orMore'], 'type': 'bar', 'name': '4orMore'}\n",
    "            ],\n",
    "            'layout': {\n",
    "                'title': 'Steward by health'\n",
    "            }\n",
    "        }\n",
    "    return figure \n",
    "\n",
    "# uncomment to run\n",
    "#if __name__ == '__main__':\n",
    "#    app.run_server()"
   ]
  },
  {
   "cell_type": "code",
   "execution_count": null,
   "metadata": {},
   "outputs": [],
   "source": [
    "external_stylesheets = ['https://codepen.io/chriddyp/pen/bWLwgP.css']\n",
    "\n",
    "df = q2\n",
    "\n",
    "available_indicators = df['boroname'].unique()\n",
    "\n",
    "app = dash.Dash(__name__, external_stylesheets=external_stylesheets)\n",
    "\n",
    "app.layout = html.Div([\n",
    "    html.H1('Steward by health for each Borough'),\n",
    "    html.Div('''\n",
    "        boroname\n",
    "    '''),\n",
    "    dcc.Dropdown(\n",
    "        id='dd_health2',\n",
    "        options=[{'label': i, 'value': i} for i in available_indicators],\n",
    "        value='Queens'\n",
    "    ),\n",
    "    dcc.Graph(\n",
    "        id='example-graph'    \n",
    "    )\n",
    "    \n",
    "])\n",
    "\n",
    "@app.callback(\n",
    "    dash.dependencies.Output('example-graph', 'figure'),\n",
    "    [dash.dependencies.Input('dd_health2', 'value')])\n",
    "\n",
    "def update_output(selected_dropdown_value):\n",
    "    dff = df[df['boroname'] == selected_dropdown_value]\n",
    "    figure = {\n",
    "            'data': [\n",
    "                {'x': dff.health[dff['steward'] == 'None'], 'y': dff.prop_steward[dff['steward'] == 'None'], 'type': 'bar', 'name': 'None'},\n",
    "                {'x': dff.health[dff['steward'] == '1or2'], 'y': dff.prop_steward[dff['steward'] == '1or2'], 'type': 'bar', 'name': '1or2'},\n",
    "                {'x': dff.health[dff['steward'] == '3or4'], 'y': dff.prop_steward[dff['steward'] == '3or4'], 'type': 'bar', 'name': '3or4'},\n",
    "                {'x': dff.health[dff['steward'] == '4orMore'], 'y': dff.prop_steward[dff['steward'] == '4orMore'], 'type': 'bar', 'name': '4orMore'}\n",
    "            ],\n",
    "            'layout': {\n",
    "                'title': 'Steward by health'\n",
    "            }\n",
    "        }\n",
    "    return figure \n",
    "\n",
    "\n",
    "# uncomment to run\n",
    "#if __name__ == '__main__':\n",
    "#    app.run_server()"
   ]
  }
 ],
 "metadata": {
  "kernelspec": {
   "display_name": "Python 3",
   "language": "python",
   "name": "python3"
  },
  "language_info": {
   "codemirror_mode": {
    "name": "ipython",
    "version": 3
   },
   "file_extension": ".py",
   "mimetype": "text/x-python",
   "name": "python",
   "nbconvert_exporter": "python",
   "pygments_lexer": "ipython3",
   "version": "3.7.4"
  }
 },
 "nbformat": 4,
 "nbformat_minor": 2
}
